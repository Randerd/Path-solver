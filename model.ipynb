{
 "cells": [
  {
   "cell_type": "code",
   "execution_count": 1,
   "metadata": {},
   "outputs": [],
   "source": [
    "from PIL import Image\n",
    "import glob\n",
    "\n",
    "import numpy as np\n",
    "from sklearn.model_selection import train_test_split\n",
    "from keras.utils import np_utils"
   ]
  },
  {
   "cell_type": "markdown",
   "metadata": {},
   "source": [
    "### Create Dataset from files"
   ]
  },
  {
   "cell_type": "code",
   "execution_count": 2,
   "metadata": {},
   "outputs": [],
   "source": [
    "files =  glob.glob(\"tiles/**/*/*.png\")\n",
    "category = {'180':0, '135':4, '90':12, '45':20}\n",
    "x, y = [], [] \n",
    "for file in files:\n",
    "    tile_name = file.split(\"\\\\\")[-1].split('-')\n",
    "    tile_type = category[tile_name[0]]+int(tile_name[1])\n",
    "    y.append(tile_type)\n",
    "    im = Image.open(file)\n",
    "    pixel_values = np.array([abs(255-val[0]) for val in list(im.getdata())])\n",
    "    x.append(pixel_values.reshape((60,60)))\n",
    "\n",
    "x = np.array(x)\n",
    "y = np_utils.to_categorical(y,28)\n"
   ]
  },
  {
   "cell_type": "code",
   "execution_count": 3,
   "metadata": {},
   "outputs": [
    {
     "data": {
      "text/plain": [
       "(array([[  0,   0,   0, ...,   0,   0,   0],\n",
       "        [  0,   0,   0, ...,   0,   0,   0],\n",
       "        [  0,   0,   0, ...,   0,   0,   0],\n",
       "        ...,\n",
       "        [  0,   0,   0, ..., 255, 255, 255],\n",
       "        [  0,   0,   0, ..., 255, 255, 255],\n",
       "        [  0,   0,   0, ..., 255, 255, 255]]),\n",
       " (60, 60))"
      ]
     },
     "execution_count": 3,
     "metadata": {},
     "output_type": "execute_result"
    }
   ],
   "source": [
    "x[0], x[0].shape"
   ]
  },
  {
   "cell_type": "code",
   "execution_count": 4,
   "metadata": {},
   "outputs": [],
   "source": [
    "x_train, x_test, y_train, y_test = train_test_split(x,y, test_size=0.15)"
   ]
  },
  {
   "cell_type": "code",
   "execution_count": 5,
   "metadata": {},
   "outputs": [
    {
     "data": {
      "text/plain": [
       "((595, 60, 60), (595, 28), (105, 60, 60))"
      ]
     },
     "execution_count": 5,
     "metadata": {},
     "output_type": "execute_result"
    }
   ],
   "source": [
    "x_train.shape, y_train.shape, x_test.shape"
   ]
  },
  {
   "cell_type": "code",
   "execution_count": 6,
   "metadata": {},
   "outputs": [
    {
     "data": {
      "text/plain": [
       "'channels_last'"
      ]
     },
     "execution_count": 6,
     "metadata": {},
     "output_type": "execute_result"
    }
   ],
   "source": [
    "import keras.backend as K\n",
    "import keras.models as km\n",
    "import keras.layers as kl\n",
    "K.image_data_format()"
   ]
  },
  {
   "cell_type": "code",
   "execution_count": 7,
   "metadata": {},
   "outputs": [
    {
     "data": {
      "text/plain": [
       "(595, 60, 60, 1)"
      ]
     },
     "execution_count": 7,
     "metadata": {},
     "output_type": "execute_result"
    }
   ],
   "source": [
    "x_train = x_train.reshape(x_train.shape[0], 60,60,1)\n",
    "x_test = x_test.reshape(x_test.shape[0], 60,60,1)\n",
    "x_train.shape"
   ]
  },
  {
   "cell_type": "code",
   "execution_count": null,
   "metadata": {},
   "outputs": [],
   "source": [
    "# model = km.Sequential()\n",
    "# model.add(kl.Conv2D(numfm, kernel_size = (10, 10), input_shape = input_shape, activation = \"relu\"))\n",
    "# model.add(kl.MaxPooling2D(pool_size = (4, 4), strides = (4, 4)))\n",
    "# model.add(kl.Dropout(0.2,name = 'dropout'))\n",
    "# model.add(kl.Conv2D(2 * numfm, kernel_size = (6, 6), activation = \"relu\"))\n",
    "# model.add(kl.MaxPooling2D(pool_size = (4, 4), strides = (4, 4)))\n",
    "# model.add(kl.Flatten())\n",
    "# model.add(kl.Dense(numnodes, activation = \"tanh\"))\n",
    "# model.add(kl.Dense(28, activation = \"softmax\"))"
   ]
  },
  {
   "cell_type": "code",
   "execution_count": 8,
   "metadata": {},
   "outputs": [],
   "source": [
    "def create_model(numfm, numnodes):\n",
    "    # numfm, numnodes = 5, 250\n",
    "    input_shape = (60,60,1)\n",
    "\n",
    "    model = km.Sequential()\n",
    "    model.add(kl.Conv2D(numfm, kernel_size = (5, 5), input_shape = input_shape, activation = \"relu\"))\n",
    "    model.add(kl.MaxPooling2D(pool_size = (2, 2), strides = (2, 2)))\n",
    "    model.add(kl.Dropout(0.2,name = 'dropout'))\n",
    "    model.add(kl.Flatten())\n",
    "    model.add(kl.Dense(numnodes, activation = \"tanh\"))\n",
    "    model.add(kl.Dense(28, activation = \"softmax\"))\n",
    "\n",
    "    return model"
   ]
  },
  {
   "cell_type": "markdown",
   "metadata": {},
   "source": [
    "Testing filter and hidden node values"
   ]
  },
  {
   "cell_type": "code",
   "execution_count": null,
   "metadata": {},
   "outputs": [],
   "source": [
    "# train_history, val_history = {},{}\n",
    "# numnfs = [2,3,5,7,10,15,20]\n",
    "# num_nodes = [8,16,32,64,100,150,200,250,300,400,500]\n",
    "# for nfs in numnfs:\n",
    "#     train_history[nfs], val_history[nfs] = [], [] \n",
    "#     for nodes in num_nodes:\n",
    "#         print(f'Current Model - {nfs} NFS, {nodes} Nodes')\n",
    "#         model = create_model(nfs, nodes)\n",
    "#         model.compile(loss='categorical_crossentropy', optimizer='sgd', metrics=['accuracy'])\n",
    "#         history = model.fit(x_train, y_train, epochs=50, batch_size=20, verbose=0)\n",
    "#         train_history[nfs].append(history.history['accuracy'][-1])\n",
    "#         val_history[nfs].append(model.evaluate(x_test, y_test)[-1])\n",
    "#         K.clear_session()\n",
    "   "
   ]
  },
  {
   "cell_type": "code",
   "execution_count": 36,
   "metadata": {},
   "outputs": [],
   "source": [
    "# import matplotlib.pyplot as plt"
   ]
  },
  {
   "cell_type": "code",
   "execution_count": 37,
   "metadata": {},
   "outputs": [
    {
     "data": {
      "image/png": "[encoded data removed]",
      "text/plain": [
       "<Figure size 640x480 with 1 Axes>"
      ]
     },
     "metadata": {},
     "output_type": "display_data"
    }
   ],
   "source": [
    "# nfs = 5\n",
    "# plt.title(f'Accuracy for {nfs} filters')\n",
    "# plt.xlabel('Num dense hidden nodes')\n",
    "# plt.plot(num_nodes, train_history[nfs], label = f\"Train history\")\n",
    "# plt.plot(num_nodes, val_history[nfs], label = f\"Val history\")\n",
    "# plt.legend()\n",
    "# plt.show()"
   ]
  },
  {
   "cell_type": "code",
   "execution_count": null,
   "metadata": {},
   "outputs": [],
   "source": [
    "# for nfs in numnfs:      #Saving the graphs so I can look at\n",
    "#     plt.title(f'Accuracy for {nfs} filters')\n",
    "#     plt.xlabel('Num dense hidden nodes')\n",
    "#     plt.plot(num_nodes, train_history[nfs], label = f\"Train history\")\n",
    "#     plt.plot(num_nodes, val_history[nfs], label = f\"Val history\")\n",
    "#     plt.legend()\n",
    "#     plt.savefig(f'pyplots/{nfs}_filters.png')\n",
    "#     plt.clf()\n",
    " \n",
    "# plt.show()"
   ]
  },
  {
   "cell_type": "markdown",
   "metadata": {},
   "source": [
    "Evaluating model"
   ]
  },
  {
   "cell_type": "code",
   "execution_count": 16,
   "metadata": {},
   "outputs": [
    {
     "name": "stdout",
     "output_type": "stream",
     "text": [
      "Epoch 1/50\n",
      "30/30 - 1s - loss: 2.7845 - accuracy: 0.2588 - 663ms/epoch - 22ms/step\n",
      "Epoch 2/50\n",
      "30/30 - 0s - loss: 1.6772 - accuracy: 0.5613 - 349ms/epoch - 12ms/step\n",
      "Epoch 3/50\n",
      "30/30 - 0s - loss: 1.2855 - accuracy: 0.7059 - 391ms/epoch - 13ms/step\n",
      "Epoch 4/50\n",
      "30/30 - 0s - loss: 1.0016 - accuracy: 0.7798 - 336ms/epoch - 11ms/step\n",
      "Epoch 5/50\n",
      "30/30 - 0s - loss: 0.8280 - accuracy: 0.8487 - 362ms/epoch - 12ms/step\n",
      "Epoch 6/50\n",
      "30/30 - 0s - loss: 0.7226 - accuracy: 0.8454 - 396ms/epoch - 13ms/step\n",
      "Epoch 7/50\n",
      "30/30 - 0s - loss: 0.6743 - accuracy: 0.8672 - 348ms/epoch - 12ms/step\n",
      "Epoch 8/50\n",
      "30/30 - 0s - loss: 0.5862 - accuracy: 0.8891 - 364ms/epoch - 12ms/step\n",
      "Epoch 9/50\n",
      "30/30 - 0s - loss: 0.5023 - accuracy: 0.9025 - 332ms/epoch - 11ms/step\n",
      "Epoch 10/50\n",
      "30/30 - 0s - loss: 0.4465 - accuracy: 0.9143 - 333ms/epoch - 11ms/step\n",
      "Epoch 11/50\n",
      "30/30 - 0s - loss: 0.4262 - accuracy: 0.9160 - 344ms/epoch - 11ms/step\n",
      "Epoch 12/50\n",
      "30/30 - 0s - loss: 0.3897 - accuracy: 0.9244 - 332ms/epoch - 11ms/step\n",
      "Epoch 13/50\n",
      "30/30 - 0s - loss: 0.3748 - accuracy: 0.9261 - 335ms/epoch - 11ms/step\n",
      "Epoch 14/50\n",
      "30/30 - 0s - loss: 0.3487 - accuracy: 0.9277 - 346ms/epoch - 12ms/step\n",
      "Epoch 15/50\n",
      "30/30 - 0s - loss: 0.3409 - accuracy: 0.9378 - 351ms/epoch - 12ms/step\n",
      "Epoch 16/50\n",
      "30/30 - 0s - loss: 0.3005 - accuracy: 0.9445 - 364ms/epoch - 12ms/step\n",
      "Epoch 17/50\n",
      "30/30 - 0s - loss: 0.2772 - accuracy: 0.9479 - 345ms/epoch - 11ms/step\n",
      "Epoch 18/50\n",
      "30/30 - 0s - loss: 0.2696 - accuracy: 0.9496 - 347ms/epoch - 12ms/step\n",
      "Epoch 19/50\n",
      "30/30 - 0s - loss: 0.2497 - accuracy: 0.9613 - 340ms/epoch - 11ms/step\n",
      "Epoch 20/50\n",
      "30/30 - 0s - loss: 0.2318 - accuracy: 0.9546 - 332ms/epoch - 11ms/step\n",
      "Epoch 21/50\n",
      "30/30 - 0s - loss: 0.2311 - accuracy: 0.9597 - 336ms/epoch - 11ms/step\n",
      "Epoch 22/50\n",
      "30/30 - 0s - loss: 0.2085 - accuracy: 0.9613 - 337ms/epoch - 11ms/step\n",
      "Epoch 23/50\n",
      "30/30 - 0s - loss: 0.2152 - accuracy: 0.9647 - 368ms/epoch - 12ms/step\n",
      "Epoch 24/50\n",
      "30/30 - 0s - loss: 0.2018 - accuracy: 0.9630 - 336ms/epoch - 11ms/step\n",
      "Epoch 25/50\n",
      "30/30 - 0s - loss: 0.1956 - accuracy: 0.9664 - 376ms/epoch - 13ms/step\n",
      "Epoch 26/50\n",
      "30/30 - 0s - loss: 0.2091 - accuracy: 0.9597 - 331ms/epoch - 11ms/step\n",
      "Epoch 27/50\n",
      "30/30 - 0s - loss: 0.1899 - accuracy: 0.9681 - 335ms/epoch - 11ms/step\n",
      "Epoch 28/50\n",
      "30/30 - 0s - loss: 0.1830 - accuracy: 0.9765 - 340ms/epoch - 11ms/step\n",
      "Epoch 29/50\n",
      "30/30 - 0s - loss: 0.1850 - accuracy: 0.9630 - 379ms/epoch - 13ms/step\n",
      "Epoch 30/50\n",
      "30/30 - 0s - loss: 0.1656 - accuracy: 0.9697 - 352ms/epoch - 12ms/step\n",
      "Epoch 31/50\n",
      "30/30 - 0s - loss: 0.1642 - accuracy: 0.9731 - 381ms/epoch - 13ms/step\n",
      "Epoch 32/50\n",
      "30/30 - 0s - loss: 0.1585 - accuracy: 0.9714 - 353ms/epoch - 12ms/step\n",
      "Epoch 33/50\n",
      "30/30 - 0s - loss: 0.1517 - accuracy: 0.9765 - 329ms/epoch - 11ms/step\n",
      "Epoch 34/50\n",
      "30/30 - 0s - loss: 0.1453 - accuracy: 0.9765 - 367ms/epoch - 12ms/step\n",
      "Epoch 35/50\n",
      "30/30 - 0s - loss: 0.1381 - accuracy: 0.9765 - 354ms/epoch - 12ms/step\n",
      "Epoch 36/50\n",
      "30/30 - 0s - loss: 0.1337 - accuracy: 0.9782 - 349ms/epoch - 12ms/step\n",
      "Epoch 37/50\n",
      "30/30 - 0s - loss: 0.1358 - accuracy: 0.9765 - 347ms/epoch - 12ms/step\n",
      "Epoch 38/50\n",
      "30/30 - 0s - loss: 0.1304 - accuracy: 0.9798 - 331ms/epoch - 11ms/step\n",
      "Epoch 39/50\n",
      "30/30 - 0s - loss: 0.1257 - accuracy: 0.9798 - 370ms/epoch - 12ms/step\n",
      "Epoch 40/50\n",
      "30/30 - 0s - loss: 0.1122 - accuracy: 0.9866 - 341ms/epoch - 11ms/step\n",
      "Epoch 41/50\n",
      "30/30 - 0s - loss: 0.1135 - accuracy: 0.9866 - 343ms/epoch - 11ms/step\n",
      "Epoch 42/50\n",
      "30/30 - 0s - loss: 0.1073 - accuracy: 0.9899 - 360ms/epoch - 12ms/step\n",
      "Epoch 43/50\n",
      "30/30 - 0s - loss: 0.1040 - accuracy: 0.9899 - 349ms/epoch - 12ms/step\n",
      "Epoch 44/50\n",
      "30/30 - 0s - loss: 0.1139 - accuracy: 0.9782 - 350ms/epoch - 12ms/step\n",
      "Epoch 45/50\n",
      "30/30 - 0s - loss: 0.1022 - accuracy: 0.9849 - 330ms/epoch - 11ms/step\n",
      "Epoch 46/50\n",
      "30/30 - 0s - loss: 0.0965 - accuracy: 0.9882 - 345ms/epoch - 12ms/step\n",
      "Epoch 47/50\n",
      "30/30 - 0s - loss: 0.0953 - accuracy: 0.9882 - 348ms/epoch - 12ms/step\n",
      "Epoch 48/50\n",
      "30/30 - 0s - loss: 0.0931 - accuracy: 0.9849 - 334ms/epoch - 11ms/step\n",
      "Epoch 49/50\n",
      "30/30 - 0s - loss: 0.0924 - accuracy: 0.9849 - 337ms/epoch - 11ms/step\n",
      "Epoch 50/50\n",
      "30/30 - 0s - loss: 0.0927 - accuracy: 0.9882 - 334ms/epoch - 11ms/step\n"
     ]
    }
   ],
   "source": [
    "model = create_model(5,512)     #3,300 also looked good\n",
    "model.compile(loss='categorical_crossentropy', optimizer='sgd', metrics=['accuracy'])\n",
    "history = model.fit(x_train, y_train, epochs=50, batch_size=20, verbose=2)"
   ]
  },
  {
   "cell_type": "code",
   "execution_count": 17,
   "metadata": {},
   "outputs": [
    {
     "data": {
      "text/plain": [
       "0.9882352948188782"
      ]
     },
     "execution_count": 17,
     "metadata": {},
     "output_type": "execute_result"
    }
   ],
   "source": [
    "history.history['accuracy'][-1]"
   ]
  },
  {
   "cell_type": "code",
   "execution_count": 18,
   "metadata": {},
   "outputs": [
    {
     "name": "stdout",
     "output_type": "stream",
     "text": [
      "4/4 [==============================] - 0s 4ms/step - loss: 0.2421 - accuracy: 0.9333\n"
     ]
    },
    {
     "data": {
      "text/plain": [
       "0.9333333373069763"
      ]
     },
     "execution_count": 18,
     "metadata": {},
     "output_type": "execute_result"
    }
   ],
   "source": [
    "model.evaluate(x_test, y_test)[-1]"
   ]
  },
  {
   "cell_type": "code",
   "execution_count": 19,
   "metadata": {},
   "outputs": [
    {
     "data": {
      "text/plain": [
       "array([[  0,   0,   0, ...,   0,   0,   0],\n",
       "       [  0,   0,   0, ...,   0,   0,   0],\n",
       "       [  0,   0,   0, ...,   0,   0,   0],\n",
       "       ...,\n",
       "       [  0,   0,   0, ..., 255, 255, 255],\n",
       "       [  0,   0,   0, ..., 255, 255, 255],\n",
       "       [  0,   0,   0, ..., 255, 255, 255]])"
      ]
     },
     "execution_count": 19,
     "metadata": {},
     "output_type": "execute_result"
    }
   ],
   "source": [
    "x[0]"
   ]
  },
  {
   "cell_type": "code",
   "execution_count": 20,
   "metadata": {},
   "outputs": [
    {
     "data": {
      "text/plain": [
       "(60, 60, 1)"
      ]
     },
     "execution_count": 20,
     "metadata": {},
     "output_type": "execute_result"
    }
   ],
   "source": [
    "x_test[0].shape"
   ]
  },
  {
   "cell_type": "code",
   "execution_count": 21,
   "metadata": {},
   "outputs": [
    {
     "data": {
      "text/plain": [
       "(array([ 3, 26, 17, 15,  9, 20,  5,  6, 22, 24,  7, 26, 18, 18, 15,  7, 16,\n",
       "        18, 15,  2,  5, 27, 12, 19, 13,  6, 26,  7, 18,  3,  1, 24, 27, 12,\n",
       "        26,  1,  3, 22,  1,  1, 27,  4, 27, 26,  0, 26,  5, 11,  7,  9, 17,\n",
       "        10,  0, 27, 21, 17,  6,  6,  2, 26,  8, 22,  4, 16, 16,  4, 11,  3,\n",
       "        10, 16, 13, 18,  0, 11, 16,  4, 11,  9, 25, 26,  2, 24,  9, 14, 22,\n",
       "        20,  0,  5, 15,  8, 15,  0,  9,  5, 10, 12,  1, 21,  7, 27,  8,  3,\n",
       "         7, 20, 12], dtype=int64),\n",
       " array([ 3, 26, 17, 15,  9, 20,  5,  6, 22, 24,  7, 26, 18, 18, 15,  7, 16,\n",
       "        18, 15,  2,  5, 27, 12, 19, 13,  6, 26,  7, 18,  3,  1, 24, 27, 12,\n",
       "        26,  1,  3, 22, 14, 14, 27,  4, 27, 26,  0, 26, 14, 11,  7,  9, 17,\n",
       "        10,  0, 27, 21, 17,  6,  6,  2, 26,  8, 22,  4, 16, 16,  4, 11,  3,\n",
       "        10, 16, 13, 18,  0, 11, 16,  4, 11, 18, 25, 26,  2, 24,  9, 14,  0,\n",
       "        20,  0,  5, 15,  8, 15,  0,  9,  5, 10, 12,  1, 21, 16, 27,  8,  7,\n",
       "         7, 20, 12], dtype=int64))"
      ]
     },
     "execution_count": 21,
     "metadata": {},
     "output_type": "execute_result"
    }
   ],
   "source": [
    "y_pred = model.predict(x_test)\n",
    "y_pred = np.array([np.argmax(y) for y in y_pred])\n",
    "y_true = np.array([np.argmax(y) for y in y_test])\n",
    "y_pred, y_true"
   ]
  },
  {
   "cell_type": "code",
   "execution_count": 34,
   "metadata": {},
   "outputs": [
    {
     "data": {
      "text/plain": [
       "(9, 9)"
      ]
     },
     "execution_count": 34,
     "metadata": {},
     "output_type": "execute_result"
    }
   ],
   "source": [
    "np.argmax(model.predict(x_test[4:5])), np.argmax(y_test[4])\n",
    "### idrk why it's doing this\n"
   ]
  }
 ],
 "metadata": {
  "kernelspec": {
   "display_name": "Python 3",
   "language": "python",
   "name": "python3"
  },
  "language_info": {
   "codemirror_mode": {
    "name": "ipython",
    "version": 3
   },
   "file_extension": ".py",
   "mimetype": "text/x-python",
   "name": "python",
   "nbconvert_exporter": "python",
   "pygments_lexer": "ipython3",
   "version": "3.9.13"
  }
 },
 "nbformat": 4,
 "nbformat_minor": 2
}
