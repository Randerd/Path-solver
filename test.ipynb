{
 "cells": [
  {
   "cell_type": "code",
   "execution_count": 42,
   "metadata": {},
   "outputs": [],
   "source": [
    "from tiles import *\n",
    "from tabulate import tabulate\n"
   ]
  },
  {
   "cell_type": "code",
   "execution_count": 45,
   "metadata": {},
   "outputs": [],
   "source": [
    "connectionsA = {}\n",
    "connectionsB = {}\n",
    "connectionsC = {}\n",
    "connectionsA['Top'] = 1\n",
    "connectionsA['Bot'] = 2\n",
    "connectionsB['Top'] = 1\n",
    "connectionsB['Bot'] = None\n",
    "connectionsC['Top'] = None\n",
    "connectionsC['Left'] = None"
   ]
  },
  {
   "cell_type": "code",
   "execution_count": 32,
   "metadata": {},
   "outputs": [
    {
     "data": {
      "text/plain": [
       "True"
      ]
     },
     "execution_count": 32,
     "metadata": {},
     "output_type": "execute_result"
    }
   ],
   "source": [
    "any(ori in connectionsA for ori in connectionsC)\n"
   ]
  },
  {
   "cell_type": "code",
   "execution_count": 72,
   "metadata": {},
   "outputs": [
    {
     "data": {
      "text/plain": [
       "[['b', None, None, None, None],\n",
       " ['b', None, None, None, None],\n",
       " ['b', None, None, None, None],\n",
       " ['b', None, None, None, None],\n",
       " ['b', None, None, None, None]]"
      ]
     },
     "execution_count": 72,
     "metadata": {},
     "output_type": "execute_result"
    }
   ],
   "source": [
    "size = 5\n",
    "# thing= [[None for _ in range(size)] for _ in range(size)]\n",
    "thing = [[None]*size]*size\n",
    "thing[1][0] = 'b'\n",
    "thing\n"
   ]
  },
  {
   "cell_type": "code",
   "execution_count": null,
   "metadata": {},
   "outputs": [],
   "source": [
    "lst = [1,2,3,4,5,6,7,8,9]\n",
    "for i in lst:\n",
    "    print()\n",
    "    print(f'-{i}-')\n",
    "    if i%2 == 0:\n",
    "        lst.remove(i)\n",
    "        lst.insert(0,i) \n",
    "    for j in lst:\n",
    "        if j%3 == 0:\n",
    "            print(j,'*')\n",
    "            lst.remove(j)\n",
    "            lst.insert(0,j)\n",
    "            # lst.append(j)\n",
    "        else:\n",
    "            print(j)"
   ]
  },
  {
   "cell_type": "code",
   "execution_count": 73,
   "metadata": {},
   "outputs": [
    {
     "name": "stdout",
     "output_type": "stream",
     "text": [
      "1\n",
      "3\n",
      "5\n",
      "7\n",
      "9\n",
      "11\n",
      "13\n",
      "15\n",
      "17\n",
      "19\n"
     ]
    }
   ],
   "source": [
    "for i in range(20):\n",
    "    if i%2 == 0:\n",
    "        continue\n",
    "    print(i)"
   ]
  }
 ],
 "metadata": {
  "kernelspec": {
   "display_name": "Python 3",
   "language": "python",
   "name": "python3"
  },
  "language_info": {
   "codemirror_mode": {
    "name": "ipython",
    "version": 3
   },
   "file_extension": ".py",
   "mimetype": "text/x-python",
   "name": "python",
   "nbconvert_exporter": "python",
   "pygments_lexer": "ipython3",
   "version": "3.12.0"
  }
 },
 "nbformat": 4,
 "nbformat_minor": 2
}
